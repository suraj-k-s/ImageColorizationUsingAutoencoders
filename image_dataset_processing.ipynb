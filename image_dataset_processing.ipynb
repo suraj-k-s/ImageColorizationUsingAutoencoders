{
 "cells": [
  {
   "cell_type": "markdown",
   "metadata": {},
   "source": [
    "### Data Processing\n",
    "#### These are the datasets used to build the model. And is taken from Kaggle.\n",
    "* https://www.kaggle.com/datasets/arnaud58/landscape-pictures\n",
    "* https://www.kaggle.com/code/theblackmamba31/autoencoder-grayscale-to-color-image/input\n",
    "\n",
    "After processing, the color images are of 704 mb . Which contains 11,215 Images.\n",
    "\n",
    "Using 80% to train and remaining to test of 11,215 images."
   ]
  },
  {
   "cell_type": "code",
   "execution_count": 20,
   "metadata": {},
   "outputs": [],
   "source": [
    "import os\n",
    "import shutil"
   ]
  },
  {
   "cell_type": "markdown",
   "metadata": {},
   "source": [
    "### copying the landscape images from the 'color' folder of 'landscape images' to Landscape_Images_Dataset."
   ]
  },
  {
   "cell_type": "code",
   "execution_count": 21,
   "metadata": {},
   "outputs": [],
   "source": [
    "def copy_files(source_folder, destination_folder, file_extensions=None):\n",
    "    # Ensure the destination folder exists\n",
    "    os.makedirs(destination_folder, exist_ok=True)\n",
    "\n",
    "    # Iterate through each file in the source folder\n",
    "    for filename in os.listdir(source_folder):\n",
    "        source_path = os.path.join(source_folder, filename)\n",
    "        \n",
    "        # Check if the file has the specified extension (if provided)\n",
    "        if file_extensions is None or any(filename.lower().endswith(ext) for ext in file_extensions):\n",
    "            destination_path = os.path.join(destination_folder, filename)\n",
    "            \n",
    "            # Copy the file to the destination folder\n",
    "            shutil.copy2(source_path, destination_path)\n",
    "            print(f\"Copied: {filename} to {destination_folder}\")"
   ]
  },
  {
   "cell_type": "code",
   "execution_count": 22,
   "metadata": {},
   "outputs": [
    {
     "name": "stdout",
     "output_type": "stream",
     "text": [
      "Copied: 0.jpg to Landscape_Images_Dataset\n",
      "Copied: 1.jpg to Landscape_Images_Dataset\n",
      "Copied: 2.jpg to Landscape_Images_Dataset\n",
      "Copied: 3.jpg to Landscape_Images_Dataset\n",
      "Copied: 4.jpg to Landscape_Images_Dataset\n",
      "Copied: 5.jpg to Landscape_Images_Dataset\n"
     ]
    }
   ],
   "source": [
    "# Specify the source and destination folders\n",
    "destination_folder = \"Landscape_Images_Dataset\"\n",
    "source_folder = \"landscape Images\\color\"\n",
    "\n",
    "# Specify file extensions to filter (optional)\n",
    "file_extensions = ['.jpg', '.png']  # Add or modify as needed\n",
    "\n",
    "# Copy files from the source folder to the destination folder\n",
    "copy_files(source_folder, destination_folder, file_extensions)"
   ]
  },
  {
   "cell_type": "markdown",
   "metadata": {},
   "source": [
    "### Removing the images which are non RGB"
   ]
  },
  {
   "cell_type": "code",
   "execution_count": 23,
   "metadata": {},
   "outputs": [],
   "source": [
    "from PIL import Image\n",
    "import os\n",
    "\n",
    "def find_images_with_4_channels(folder_path_color):\n",
    "    images_to_remove = []\n",
    "    for filename in os.listdir(folder_path_color):\n",
    "        image_path = os.path.join(folder_path_color, filename)\n",
    "        img = Image.open(image_path)\n",
    "        \n",
    "        # Check if the image has 4 channels\n",
    "        if img.mode != 'RGB':\n",
    "            images_to_remove.append(filename)\n",
    "            print(f\"Image '{filename}' has 4 channels {img.mode}.\")\n",
    "            \n",
    "        # Close the image file\n",
    "        img.close()\n",
    "\n",
    "    return images_to_remove\n",
    "\n",
    "folder_path_color = 'Landscape_Images_Dataset'\n",
    "\n",
    "rgba_images = find_images_with_4_channels(folder_path_color)\n",
    "\n",
    "for image in rgba_images:\n",
    "    os.remove(os.path.join(folder_path_color, image))\n",
    "    print(f\"{image} has been deleted\")"
   ]
  },
  {
   "cell_type": "markdown",
   "metadata": {},
   "source": [
    "## Removing Duplicates"
   ]
  },
  {
   "cell_type": "code",
   "execution_count": 26,
   "metadata": {},
   "outputs": [
    {
     "name": "stdout",
     "output_type": "stream",
     "text": [
      "0 of duplicates\n"
     ]
    }
   ],
   "source": [
    "from PIL import Image\n",
    "import imagehash\n",
    "import os\n",
    "\n",
    "def find_duplicate_images(folder_path_color):\n",
    "    image_hashes = {}\n",
    "\n",
    "    count = 0\n",
    "    for filename in os.listdir(folder_path_color):\n",
    "        if filename.endswith(('.png', '.jpg', '.jpeg')):\n",
    "            image_path = os.path.join(folder_path_color, filename)\n",
    "            with Image.open(image_path) as img:\n",
    "                hash_value = imagehash.phash(img)\n",
    "            \n",
    "            if hash_value in image_hashes:\n",
    "                count += 1\n",
    "                print(f'Duplicate found: {filename} and {image_hashes[hash_value]}')\n",
    "                os.remove(folder_path_color + '/' + filename)\n",
    "                print(f'Duplicates in color and gray are deleted')\n",
    "            else:\n",
    "                image_hashes[hash_value] = filename\n",
    "\n",
    "    print(count, 'of duplicates')\n",
    "\n",
    "if __name__ == \"__main__\":\n",
    "    folder_path_color = \"Landscape_Images_Dataset\"\n",
    "    find_duplicate_images(folder_path_color)\n"
   ]
  },
  {
   "cell_type": "markdown",
   "metadata": {},
   "source": [
    "Finding the size of dataset"
   ]
  },
  {
   "cell_type": "code",
   "execution_count": 27,
   "metadata": {},
   "outputs": [
    {
     "name": "stdout",
     "output_type": "stream",
     "text": [
      "11 color images are there\n"
     ]
    }
   ],
   "source": [
    "color_image_folder = 'Landscape_Images_Dataset'\n",
    "\n",
    "color_images = os.listdir(color_image_folder)\n",
    "print(f\"{len(color_images)} color images are there\")"
   ]
  },
  {
   "cell_type": "code",
   "execution_count": null,
   "metadata": {},
   "outputs": [],
   "source": []
  }
 ],
 "metadata": {
  "kernelspec": {
   "display_name": "Python 3",
   "language": "python",
   "name": "python3"
  },
  "language_info": {
   "codemirror_mode": {
    "name": "ipython",
    "version": 3
   },
   "file_extension": ".py",
   "mimetype": "text/x-python",
   "name": "python",
   "nbconvert_exporter": "python",
   "pygments_lexer": "ipython3",
   "version": "3.11.8"
  }
 },
 "nbformat": 4,
 "nbformat_minor": 2
}
