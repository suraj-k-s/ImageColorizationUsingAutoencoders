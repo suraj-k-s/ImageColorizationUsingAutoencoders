{
 "cells": [
  {
   "cell_type": "markdown",
   "metadata": {},
   "source": [
    "### Data Processing\n",
    "#### These are the datasets used to build the model. And is taken from Kaggle.\n",
    "* https://www.kaggle.com/datasets/arnaud58/landscape-pictures\n",
    "* https://www.kaggle.com/code/theblackmamba31/autoencoder-grayscale-to-color-image/input\n",
    "* https://www.kaggle.com/datasets/duttadebadri/image-classification\n",
    "\n",
    "Using 80% to train and remaining to test."
   ]
  },
  {
   "cell_type": "markdown",
   "metadata": {},
   "source": [
    "### Removing the images which are non RGB"
   ]
  },
  {
   "cell_type": "code",
   "execution_count": 1,
   "metadata": {},
   "outputs": [],
   "source": [
    "from PIL import Image\n",
    "import os\n",
    "\n",
    "def find_images_with_4_channels(folder_path_color):\n",
    "    images_to_remove = []\n",
    "    for filename in os.listdir(folder_path_color):\n",
    "        image_path = os.path.join(folder_path_color, filename)\n",
    "        img = Image.open(image_path)\n",
    "        \n",
    "        # Check if the image has 4 channels\n",
    "        if img.mode != 'RGB':\n",
    "            images_to_remove.append(filename)\n",
    "            print(f\"Image '{filename}' has 4 channels {img.mode}.\")\n",
    "            \n",
    "        # Close the image file\n",
    "        img.close()\n",
    "\n",
    "    return images_to_remove\n",
    "\n",
    "folder_path_color = 'image_dataset'\n",
    "\n",
    "rgba_images = find_images_with_4_channels(folder_path_color)\n",
    "\n",
    "for image in rgba_images:\n",
    "    os.remove(os.path.join(folder_path_color, image))\n",
    "    print(f\"{image} has been deleted\")"
   ]
  },
  {
   "cell_type": "markdown",
   "metadata": {},
   "source": [
    "## Removing Duplicates"
   ]
  },
  {
   "cell_type": "code",
   "execution_count": 2,
   "metadata": {},
   "outputs": [
    {
     "name": "stdout",
     "output_type": "stream",
     "text": [
      "0 of duplicates deleted\n"
     ]
    }
   ],
   "source": [
    "from PIL import Image\n",
    "import imagehash\n",
    "import os\n",
    "\n",
    "def find_duplicate_images(folder_path_color):\n",
    "    image_hashes = {}\n",
    "\n",
    "    count = 0\n",
    "    for filename in os.listdir(folder_path_color):\n",
    "        if filename.endswith(('.png', '.jpg', '.jpeg')):\n",
    "            image_path = os.path.join(folder_path_color, filename)\n",
    "            with Image.open(image_path) as img:\n",
    "                hash_value = imagehash.phash(img)\n",
    "            \n",
    "            if hash_value in image_hashes:\n",
    "                count += 1\n",
    "                print(f'Duplicate found: {filename} and {image_hashes[hash_value]}')\n",
    "                os.remove(folder_path_color + '/' + filename)\n",
    "                print(f'Duplicate is deleted')\n",
    "            else:\n",
    "                image_hashes[hash_value] = filename\n",
    "\n",
    "    print(count, 'of duplicates deleted')\n",
    "\n",
    "if __name__ == \"__main__\":\n",
    "    folder_path_color = \"image_dataset\"\n",
    "    find_duplicate_images(folder_path_color)\n"
   ]
  },
  {
   "cell_type": "markdown",
   "metadata": {},
   "source": [
    "Finding the size of dataset"
   ]
  },
  {
   "cell_type": "code",
   "execution_count": 4,
   "metadata": {},
   "outputs": [
    {
     "name": "stdout",
     "output_type": "stream",
     "text": [
      "24 color images are there\n"
     ]
    }
   ],
   "source": [
    "color_image_folder = 'image_dataset'\n",
    "\n",
    "color_images = os.listdir(color_image_folder)\n",
    "print(f\"{len(color_images)} color images are there\")"
   ]
  },
  {
   "cell_type": "code",
   "execution_count": null,
   "metadata": {},
   "outputs": [],
   "source": []
  }
 ],
 "metadata": {
  "kernelspec": {
   "display_name": "Python 3",
   "language": "python",
   "name": "python3"
  },
  "language_info": {
   "codemirror_mode": {
    "name": "ipython",
    "version": 3
   },
   "file_extension": ".py",
   "mimetype": "text/x-python",
   "name": "python",
   "nbconvert_exporter": "python",
   "pygments_lexer": "ipython3",
   "version": "3.11.8"
  }
 },
 "nbformat": 4,
 "nbformat_minor": 2
}
